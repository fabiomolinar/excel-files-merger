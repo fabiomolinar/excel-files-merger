{
 "cells": [
  {
   "cell_type": "markdown",
   "metadata": {},
   "source": [
    "# Excel Files Merger\n",
    "\n",
    "Small script used to merge multiple excel files into one."
   ]
  },
  {
   "cell_type": "code",
   "execution_count": 22,
   "metadata": {},
   "outputs": [],
   "source": [
    "import os\n",
    "import glob\n",
    "import pandas as pd\n",
    "\n",
    "%config IPCompleter.greedy=True\n",
    "\n",
    "path_sources = r\"./sources/*.xls\"\n",
    "path_output = r\"./output/output.xlsx\""
   ]
  },
  {
   "cell_type": "code",
   "execution_count": 28,
   "metadata": {},
   "outputs": [],
   "source": [
    "data = pd.DataFrame()\n",
    "for file in glob.glob(path_sources):\n",
    "    df = pd.read_excel(file, header=None)\n",
    "    data = data.append(df, ignore_index=True, sort=False)\n",
    "\n",
    "data = data.dropna(how=\"all\")"
   ]
  },
  {
   "cell_type": "code",
   "execution_count": 29,
   "metadata": {},
   "outputs": [],
   "source": [
    "if os.path.exists(path_output):\n",
    "    os.remove(path_output)\n",
    "with pd.ExcelWriter(path_output) as writer:\n",
    "    data.to_excel(writer, sheet_name=\"merged\")"
   ]
  }
 ],
 "metadata": {
  "kernelspec": {
   "display_name": "Python 3",
   "language": "python",
   "name": "python3"
  },
  "language_info": {
   "codemirror_mode": {
    "name": "ipython",
    "version": 3
   },
   "file_extension": ".py",
   "mimetype": "text/x-python",
   "name": "python",
   "nbconvert_exporter": "python",
   "pygments_lexer": "ipython3",
   "version": "3.7.2"
  }
 },
 "nbformat": 4,
 "nbformat_minor": 2
}
